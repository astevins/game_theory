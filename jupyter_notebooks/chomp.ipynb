{
 "cells": [
  {
   "cell_type": "code",
   "execution_count": 18,
   "id": "92e6a3bc-f58e-4058-b5c9-871cae74d716",
   "metadata": {},
   "outputs": [],
   "source": [
    "from importnb import Notebook\n",
    "with Notebook():\n",
    "    from generic_game_calculator import GenericGameCalculator"
   ]
  },
  {
   "cell_type": "code",
   "execution_count": null,
   "id": "c6324f2e-bc44-4e77-89ec-6a80c9955454",
   "metadata": {},
   "outputs": [],
   "source": [
    "# Class to find best moves in a game of CHOMP\n",
    "\n",
    "class Chomp(GenericGameCalculator):\n",
    "    # A position is represented as tuple (x1,x2,x3,...) where x1 is length of bottom row, etc.\n",
    "\n",
    "    def visualize_game(self, pos):\n",
    "        \"\"\" Prints the CHOMP board visually with ascii characters \"\"\"\n",
    "        for line in self.visualize_game_arr(pos):\n",
    "            print(line)\n",
    "    \n",
    "    def visualize_game_arr(self, pos):\n",
    "        \"\"\" Generates an array of lines to visually represent game with ascii characters \"\"\"\n",
    "        result = []\n",
    "        for i in range(len(pos)-1,-1,-1):\n",
    "            str = \"\"\n",
    "            if pos[i] == 0:\n",
    "                continue\n",
    "            for j in range(0,pos[i]):\n",
    "                str += \"X \"\n",
    "            result.append(str)\n",
    "        return result\n",
    "            \n",
    "    def followers(self, pos):\n",
    "        \"\"\" Returns all direct followers of a CHOMP position \"\"\"\n",
    "        if sum(pos) == 1:\n",
    "            # Base case, terminal position of board\n",
    "            return []\n",
    "\n",
    "        next_pos = []\n",
    "        for i in range(0,len(pos)):\n",
    "            n = pos[i]\n",
    "            if n == 0:\n",
    "                continue\n",
    "            for j in range(0,n):\n",
    "                if j == 0 and i == 0:\n",
    "                    # Illegal move, removing last piece\n",
    "                    continue\n",
    "                # New pos cuts out a chunk of this row and all rows above\n",
    "                new_pos = (*pos[0:i], *tuple(min(j,pos[_]) for _ in range(i,len(pos))))\n",
    "                next_pos.append(new_pos);\n",
    "        return next_pos\n",
    "    \n",
    "    def pos_ix(self, pos):\n",
    "        \"\"\" Get the string used to index this position in a dict \"\"\"\n",
    "        return str(tuple([x for x in pos if x != 0]))\n",
    "\n",
    "    def is_terminal(self, pos):\n",
    "        \"\"\" Returns true if a position is terminal \"\"\"\n",
    "        return sum(pos) == 1\n",
    "\n",
    "    def parse_move(self, pos, inp):\n",
    "        \"\"\" Parses a user input move to a tuple \"\"\"\n",
    "        move = tuple(int(x) for x in inp.split(\",\"))\n",
    "        return move if self.valid_move(pos, move) else False"
   ]
  },
  {
   "cell_type": "code",
   "execution_count": null,
   "id": "e725b97a-bf3b-4c6d-b8a9-6c52dd07b744",
   "metadata": {},
   "outputs": [],
   "source": []
  }
 ],
 "metadata": {
  "kernelspec": {
   "display_name": "Python 3 (ipykernel)",
   "language": "python",
   "name": "python3"
  },
  "language_info": {
   "codemirror_mode": {
    "name": "ipython",
    "version": 3
   },
   "file_extension": ".py",
   "mimetype": "text/x-python",
   "name": "python",
   "nbconvert_exporter": "python",
   "pygments_lexer": "ipython3",
   "version": "3.9.12"
  }
 },
 "nbformat": 4,
 "nbformat_minor": 5
}
