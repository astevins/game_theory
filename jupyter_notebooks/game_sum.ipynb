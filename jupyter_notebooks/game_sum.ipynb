{
 "cells": [
  {
   "cell_type": "code",
   "execution_count": null,
   "id": "33a6f988-c6d2-4fcb-9494-54a282cbf055",
   "metadata": {},
   "outputs": [],
   "source": [
    "class Game:\n",
    "    def __init__(game_type, start_pos):\n",
    "        self.game_type = game_type\n",
    "        self.pos = start_pos\n",
    "        \n",
    "class GameSum():\n",
    "    \"\"\" Calculates the next best move for a sum of games \"\"\"\n",
    "    \n",
    "    def __init__(self, game_calculators):\n",
    "        self.game_calculators = game_calculators\n",
    "        \n",
    "    def best_move(games):\n",
    "        \"\"\" \n",
    "        Determines the next best move for a set of games\n",
    "        games: collection of Games \n",
    "        returns: collection of Games with the best legal move made\n",
    "        \"\"\"\n",
    "        return games # stub\n",
    "    \n",
    "    def visualize_game(games):\n",
    "        \"\"\"\n",
    "        Prints visualization of sum of games to console\n",
    "        \"\"\"\n",
    "        \n",
    "        print(\"unimplemented\")\n",
    "        return\n",
    "        "
   ]
  }
 ],
 "metadata": {
  "kernelspec": {
   "display_name": "Python 3 (ipykernel)",
   "language": "python",
   "name": "python3"
  },
  "language_info": {
   "codemirror_mode": {
    "name": "ipython",
    "version": 3
   },
   "file_extension": ".py",
   "mimetype": "text/x-python",
   "name": "python",
   "nbconvert_exporter": "python",
   "pygments_lexer": "ipython3",
   "version": "3.9.12"
  }
 },
 "nbformat": 4,
 "nbformat_minor": 5
}
