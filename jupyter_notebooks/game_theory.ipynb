{
 "cells": [
  {
   "cell_type": "code",
   "execution_count": 1,
   "id": "8f5ed753-61db-4363-b620-5263de0ef406",
   "metadata": {},
   "outputs": [],
   "source": [
    "import numpy as np\n",
    "import math\n",
    "import re"
   ]
  },
  {
   "cell_type": "code",
   "execution_count": 2,
   "id": "e0f9ceb0-f4d7-499d-8563-c8f463343168",
   "metadata": {},
   "outputs": [],
   "source": [
    "%run chomp.ipynb"
   ]
  },
  {
   "cell_type": "code",
   "execution_count": 3,
   "id": "8f03b4e1-e40f-4a7e-97d4-6509c66d1d2f",
   "metadata": {},
   "outputs": [],
   "source": [
    "def game(start_pos):\n",
    "    \"\"\" \n",
    "    Starts a game of CHOMP where the computer moves first from the given start position\n",
    "    start_pos: tuple (x1,x2,x3,...) where x1 is length of bottom row, etc.\n",
    "    \"\"\"\n",
    "    \n",
    "    pos = start_pos\n",
    "    chomp = Chomp()\n",
    "    players = [\"Computer\", \"P1\"]\n",
    "    next_player = 0\n",
    "    \n",
    "    while not is_terminal(pos):\n",
    "        if players[next_player] == \"Computer\":\n",
    "            pos = chomp.best_move(pos)\n",
    "        else:\n",
    "            player_move = input()\n",
    "            if player_move == 'q':\n",
    "                    return\n",
    "            player_move = parse_move(player_move)\n",
    "            while not valid_move(pos, player_move):\n",
    "                print(\"Invalid move\")\n",
    "                player_move = input()\n",
    "                if player_move == 'q':\n",
    "                    return\n",
    "                player_move = parse_move(player_move)\n",
    "            pos = player_move\n",
    "            \n",
    "        print(f'\\n{\"Your\" if players[next_player] == \"P1\" else \"My\"} move:')\n",
    "        visualize_board(pos)\n",
    "        \n",
    "        if is_terminal(pos):\n",
    "            print(f'{\"You\" if players[next_player] == \"P1\" else \"I\"} win')\n",
    "            return\n",
    "        \n",
    "        next_player = get_next_player(next_player, players)\n",
    "        \n",
    "def get_next_player(current_player, players):\n",
    "    return (current_player + 1) % len(players)"
   ]
  },
  {
   "cell_type": "code",
   "execution_count": 4,
   "id": "a9c55e65-b2b1-4fcf-a5cf-539e9d5de73b",
   "metadata": {},
   "outputs": [
    {
     "name": "stdout",
     "output_type": "stream",
     "text": [
      "\n",
      "My move:\n",
      "X X \n",
      "X X \n",
      "X X X X \n"
     ]
    },
    {
     "name": "stdin",
     "output_type": "stream",
     "text": [
      " 3,2,2\n"
     ]
    },
    {
     "name": "stdout",
     "output_type": "stream",
     "text": [
      "\n",
      "Your move:\n",
      "X X \n",
      "X X \n",
      "X X X \n",
      "\n",
      "My move:\n",
      "X \n",
      "X \n",
      "X X X \n"
     ]
    },
    {
     "name": "stdin",
     "output_type": "stream",
     "text": [
      " 2,1,1\n"
     ]
    },
    {
     "name": "stdout",
     "output_type": "stream",
     "text": [
      "\n",
      "Your move:\n",
      "X \n",
      "X \n",
      "X X \n",
      "\n",
      "My move:\n",
      "X \n",
      "X X \n"
     ]
    },
    {
     "name": "stdin",
     "output_type": "stream",
     "text": [
      " 2,0\n"
     ]
    },
    {
     "name": "stdout",
     "output_type": "stream",
     "text": [
      "\n",
      "Your move:\n",
      "X X \n",
      "\n",
      "My move:\n",
      "X \n",
      "I win\n"
     ]
    }
   ],
   "source": [
    "game((4,4,3))"
   ]
  },
  {
   "cell_type": "code",
   "execution_count": null,
   "id": "7ea042d8-d51d-4b13-8bb6-1ec44c13a40c",
   "metadata": {},
   "outputs": [],
   "source": []
  }
 ],
 "metadata": {
  "kernelspec": {
   "display_name": "Python [conda env:cpsc330]",
   "language": "python",
   "name": "conda-env-cpsc330-py"
  },
  "language_info": {
   "codemirror_mode": {
    "name": "ipython",
    "version": 3
   },
   "file_extension": ".py",
   "mimetype": "text/x-python",
   "name": "python",
   "nbconvert_exporter": "python",
   "pygments_lexer": "ipython3",
   "version": "3.10.4"
  }
 },
 "nbformat": 4,
 "nbformat_minor": 5
}
