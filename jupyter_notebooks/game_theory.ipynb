{
 "cells": [
  {
   "cell_type": "markdown",
   "id": "bf5c40c3-7c4c-4033-b723-cac60a7ecfdc",
   "metadata": {},
   "source": [
    "# Game Theory Game Simulator #\n",
    "\n",
    "In this notebook, the computer will play a game against you.\n",
    "\n",
    "To play a game, call play_game with the name of the game to play (see Supported Games below) and the start position (see Starting Position Formats below)\n",
    "\n",
    "To play a disjoint sum of games, call play_games using a start_state of the following form: [\n",
    "    [\n",
    "        \"game 1 name\",\n",
    "        (game 1 start pos)\n",
    "    ],\n",
    "    [\n",
    "        \"game 2 name\",\n",
    "        (game 2 start pos)\n",
    "    ]\n",
    "]"
   ]
  },
  {
   "cell_type": "markdown",
   "id": "3df1a560-9bd5-465e-b17f-c9cc94f5a367",
   "metadata": {},
   "source": [
    "### Supported Games ###\n",
    "\"chomp\" - The combinational game CHOMP, see https://en.wikipedia.org/wiki/Chomp"
   ]
  },
  {
   "cell_type": "markdown",
   "id": "9447ff5a-9413-49ed-a0ce-b49df066e0c5",
   "metadata": {},
   "source": [
    "### Starting Position Formats ###\n",
    "- CHOMP: a tuple containing the row lengths from bottom up, tuple (x1,x2,x3,...) where x1 is length of bottom row, etc."
   ]
  },
  {
   "cell_type": "code",
   "execution_count": 1,
   "id": "8f5ed753-61db-4363-b620-5263de0ef406",
   "metadata": {},
   "outputs": [],
   "source": [
    "import numpy as np\n",
    "import math\n",
    "import re"
   ]
  },
  {
   "cell_type": "code",
   "execution_count": 2,
   "id": "e0f9ceb0-f4d7-499d-8563-c8f463343168",
   "metadata": {},
   "outputs": [],
   "source": [
    "from importnb import Notebook\n",
    "with Notebook():\n",
    "    import generic_game_calculator\n",
    "    import game_sum\n",
    "    import chomp"
   ]
  },
  {
   "cell_type": "code",
   "execution_count": 3,
   "id": "8f03b4e1-e40f-4a7e-97d4-6509c66d1d2f",
   "metadata": {},
   "outputs": [],
   "source": [
    "game_calculators = {\n",
    "    \"chomp\": chomp.Chomp()\n",
    "}\n",
    "game_calculators[\"sum\"] = game_sum.GameSum(game_calculators)\n",
    "        \n",
    "def play_game(game, start_pos):\n",
    "    play_games([[game,start_pos]])\n",
    "    \n",
    "def play_games(start_state):\n",
    "    \"\"\" \n",
    "    Starts a game where the computer moves first from the given start state\n",
    "    start_state: array of games and start positions, see description above\n",
    "    \"\"\"\n",
    "    \n",
    "    game_calculator = None\n",
    "    pos = None\n",
    "    if len(start_state) == 1:\n",
    "        # Game calculator for a single game\n",
    "        game_calculator = game_calculators[start_state[0][0]]\n",
    "        pos = start_state[0][1]\n",
    "    else:\n",
    "        # Game calculator for a sum of games\n",
    "        game_calculator = game_calculators[\"sum\"]\n",
    "        pos = [game_sum.Game(x[0],x[1]) for x in start_state]\n",
    "        \n",
    "    players = [\"Computer\", \"P1\"]\n",
    "    next_player = 0\n",
    "    \n",
    "    while not game_calculator.is_terminal(pos):\n",
    "        if players[next_player] == \"Computer\":\n",
    "            pos = game_calculator.best_move(pos)\n",
    "        else:\n",
    "            player_move = input()\n",
    "            if player_move == 'q':\n",
    "                    return\n",
    "            player_move = game_calculator.parse_move(pos, player_move)\n",
    "            while not player_move:\n",
    "                print(\"Invalid move\")\n",
    "                player_move = input()\n",
    "                if player_move == 'q':\n",
    "                    return\n",
    "                player_move = game_calculator.parse_move(pos, player_move)\n",
    "            pos = player_move\n",
    "            \n",
    "        print(f'\\n{players[next_player]} move:')\n",
    "        game_calculator.visualize_game(pos)\n",
    "        \n",
    "        if game_calculator.is_terminal(pos):\n",
    "            print(f'\\n{players[next_player]} wins')\n",
    "            return\n",
    "        \n",
    "        next_player = get_next_player(next_player, players)\n",
    "\n",
    "def get_next_player(current_player, players):\n",
    "    return (current_player + 1) % len(players)"
   ]
  },
  {
   "cell_type": "code",
   "execution_count": null,
   "id": "c2ab29e6-ffc1-4354-89e6-1a8b33f1a927",
   "metadata": {},
   "outputs": [
    {
     "name": "stdout",
     "output_type": "stream",
     "text": [
      "Not implemented\n",
      "\n",
      "Computer move:\n",
      "Game 1\tGame 2\tGame 3\n",
      "X X \tX X \tX \n",
      "X X X \tX X X \tX X \n",
      "\n"
     ]
    }
   ],
   "source": [
    "play_games([[\"chomp\",(3,2)],[\"chomp\",(3,2)],[\"chomp\",(2,1)]])"
   ]
  },
  {
   "cell_type": "code",
   "execution_count": 7,
   "id": "a9c55e65-b2b1-4fcf-a5cf-539e9d5de73b",
   "metadata": {},
   "outputs": [
    {
     "name": "stdout",
     "output_type": "stream",
     "text": [
      "\n",
      "Computer move:\n",
      "X X \n",
      "X X X X X \n",
      "X X X X X X X \n"
     ]
    },
    {
     "name": "stdin",
     "output_type": "stream",
     "text": [
      " 5,5,2\n"
     ]
    },
    {
     "name": "stdout",
     "output_type": "stream",
     "text": [
      "\n",
      "P1 move:\n",
      "X X \n",
      "X X X X X \n",
      "X X X X X \n",
      "\n",
      "Computer move:\n",
      "X X \n",
      "X X X \n",
      "X X X X X \n"
     ]
    },
    {
     "name": "stdin",
     "output_type": "stream",
     "text": [
      " 5,3,1\n"
     ]
    },
    {
     "name": "stdout",
     "output_type": "stream",
     "text": [
      "\n",
      "P1 move:\n",
      "X \n",
      "X X X \n",
      "X X X X X \n",
      "\n",
      "Computer move:\n",
      "X \n",
      "X X \n",
      "X X \n"
     ]
    },
    {
     "name": "stdin",
     "output_type": "stream",
     "text": [
      " 2,1,1\n"
     ]
    },
    {
     "name": "stdout",
     "output_type": "stream",
     "text": [
      "\n",
      "P1 move:\n",
      "X \n",
      "X \n",
      "X X \n",
      "\n",
      "Computer move:\n",
      "X \n",
      "X X \n"
     ]
    },
    {
     "name": "stdin",
     "output_type": "stream",
     "text": [
      " 2\n"
     ]
    },
    {
     "name": "stdout",
     "output_type": "stream",
     "text": [
      "\n",
      "P1 move:\n",
      "X X \n",
      "\n",
      "Computer move:\n",
      "X \n",
      "\n",
      "Computer wins\n"
     ]
    }
   ],
   "source": [
    "play_game(\"chomp\",(10,5,2))"
   ]
  },
  {
   "cell_type": "code",
   "execution_count": null,
   "id": "20867678-344f-40f5-be06-55c60926b79e",
   "metadata": {},
   "outputs": [],
   "source": []
  },
  {
   "cell_type": "code",
   "execution_count": null,
   "id": "f089f005-024f-4bfe-ac2d-92ac3206e2c8",
   "metadata": {},
   "outputs": [],
   "source": []
  }
 ],
 "metadata": {
  "kernelspec": {
   "display_name": "Python [conda env:GameTheory]",
   "language": "python",
   "name": "conda-env-GameTheory-py"
  },
  "language_info": {
   "codemirror_mode": {
    "name": "ipython",
    "version": 3
   },
   "file_extension": ".py",
   "mimetype": "text/x-python",
   "name": "python",
   "nbconvert_exporter": "python",
   "pygments_lexer": "ipython3",
   "version": "3.10.4"
  }
 },
 "nbformat": 4,
 "nbformat_minor": 5
}
